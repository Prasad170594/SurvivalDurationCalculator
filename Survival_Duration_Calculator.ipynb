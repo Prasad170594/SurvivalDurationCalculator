{
 "cells": [
  {
   "cell_type": "code",
   "execution_count": 9,
   "id": "5b8ee81f",
   "metadata": {},
   "outputs": [
    {
     "name": "stdout",
     "output_type": "stream",
     "text": [
      "Enter your age in years: 30\n",
      "Select a time unit: months, weeks, days, hours, minutes, seconds. \n",
      "Note: You can write the first letter or the full name of the time unit.months\n",
      "You lived for 360 months\n"
     ]
    }
   ],
   "source": [
    "class AgeConverter:\n",
    "    def __init__(self,years):\n",
    "        self.years = years\n",
    "    \n",
    "    def convert_to_months(self):\n",
    "        return self.years * 12\n",
    "    \n",
    "    def convert_to_weeks(self):\n",
    "        return self.years * 52\n",
    "    \n",
    "    def convert_to_days(self):\n",
    "        return self.years * 365\n",
    "    \n",
    "    def convert_to_hours(self):\n",
    "        return self.convert_to_days() * 24\n",
    "    def convert_to_minutes(self):\n",
    "        return self.convert_to_hours() * 60\n",
    "    \n",
    "    def convert_to_seconds(self):\n",
    "        return self.convert_to_minutes() * 60\n",
    "    \n",
    "    def duration(self, unit):\n",
    "        unit = unit.lower()\n",
    "        \n",
    "        if unit == 'm' or unit == 'months':\n",
    "            print(f'You lived for {self.convert_to_months()} months')\n",
    "        elif unit == 'w' or unit == 'weeks':\n",
    "            print(f'You lived for {self.convert_to_weeks()} weeks')\n",
    "        elif unit == 'd' or unit == 'days':\n",
    "            print(f'You lived for {self.convert_to_days()} days')\n",
    "        elif unit == 'h' or unit == 'hours':\n",
    "            print(f'You lived for {self.convert_to_hours()} hours')\n",
    "        elif unit == 'min' or unit == 'minutes':\n",
    "            print(f'You lived for {self.convert_to_minutes()} minutes')\n",
    "        elif unit == 's' or unit == 'seconds':\n",
    "            print(f'You lived for {self.convert_to_seconds()} seconds')\n",
    "        else:\n",
    "            print('Incorrect unit, please select correct unit: months, weeks, days, hours, minutes, seconds.')\n",
    "\n",
    "def main():\n",
    "    age_in_years = int(input('Enter your age in years: '))\n",
    "    select_unit = input('Select a time unit: months, weeks, days, hours, minutes, seconds. \\nNote: You can write the first letter or the full name of the time unit.')\n",
    "    calculator = AgeConverter(age_in_years)\n",
    "    calculator.duration(select_unit)\n",
    "    \n",
    "main()\n",
    "    "
   ]
  },
  {
   "cell_type": "code",
   "execution_count": null,
   "id": "af971e34",
   "metadata": {},
   "outputs": [],
   "source": []
  }
 ],
 "metadata": {
  "kernelspec": {
   "display_name": "Python 3 (ipykernel)",
   "language": "python",
   "name": "python3"
  },
  "language_info": {
   "codemirror_mode": {
    "name": "ipython",
    "version": 3
   },
   "file_extension": ".py",
   "mimetype": "text/x-python",
   "name": "python",
   "nbconvert_exporter": "python",
   "pygments_lexer": "ipython3",
   "version": "3.9.13"
  }
 },
 "nbformat": 4,
 "nbformat_minor": 5
}
